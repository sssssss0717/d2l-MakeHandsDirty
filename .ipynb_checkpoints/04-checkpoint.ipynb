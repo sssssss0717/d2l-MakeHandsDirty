{
 "cells": [
  {
   "cell_type": "markdown",
   "id": "7e32c73d-3aa3-4c2f-bfd9-0c41d5ff4b1c",
   "metadata": {},
   "source": [
    "# 数据操作"
   ]
  },
  {
   "cell_type": "markdown",
   "id": "d186c6f1-a58f-4270-9c08-7b18298efbd0",
   "metadata": {},
   "source": [
    "首先，我们导入torch。请注意，虽然它被称为PyTorch，但是代码中使用torch而不是pytorch。"
   ]
  },
  {
   "cell_type": "code",
   "execution_count": 41,
   "id": "7b0b3bb2-5eda-44a4-ae3a-1fd68f0cdc1d",
   "metadata": {},
   "outputs": [],
   "source": [
    "import torch"
   ]
  },
  {
   "cell_type": "markdown",
   "id": "4dd5d4dd-a692-483c-a206-bcab518de84d",
   "metadata": {},
   "source": [
    "首先，我们可以使用 arange 创建一个行向量 x。这个行向量包含以0开始的前12个整数，它们默认创建为整数。也可指定创建类型为浮点数。张量中的每个值都称为张量的 元素（element）。例如，张量 x 中有 12 个元素。除非额外指定，新的张量将存储在内存中，并采用基于CPU的计算。"
   ]
  },
  {
   "cell_type": "code",
   "execution_count": 2,
   "id": "0235fddf-4408-460b-97f4-ce8c4b0a3fe3",
   "metadata": {},
   "outputs": [
    {
     "data": {
      "text/plain": [
       "tensor([ 0,  1,  2,  3,  4,  5,  6,  7,  8,  9, 10, 11])"
      ]
     },
     "execution_count": 2,
     "metadata": {},
     "output_type": "execute_result"
    }
   ],
   "source": [
    "x = torch.arange(12)\n",
    "x"
   ]
  },
  {
   "cell_type": "markdown",
   "id": "e670f37c-fbfb-4589-ab0e-0d83b2dec37f",
   "metadata": {},
   "source": [
    "可以通过张量的shape属性来访问张量（沿每个轴的长度）的形状 。"
   ]
  },
  {
   "cell_type": "code",
   "execution_count": 3,
   "id": "b689560a-0f7c-462c-83cd-62d905fcfa55",
   "metadata": {},
   "outputs": [
    {
     "data": {
      "text/plain": [
       "torch.Size([12])"
      ]
     },
     "execution_count": 3,
     "metadata": {},
     "output_type": "execute_result"
    }
   ],
   "source": [
    "x.shape"
   ]
  },
  {
   "cell_type": "code",
   "execution_count": 4,
   "id": "3cdcdeb2-856f-444a-8f10-9b13a346c05c",
   "metadata": {},
   "outputs": [
    {
     "data": {
      "text/plain": [
       "12"
      ]
     },
     "execution_count": 4,
     "metadata": {},
     "output_type": "execute_result"
    }
   ],
   "source": [
    "x.numel()"
   ]
  },
  {
   "cell_type": "markdown",
   "id": "ed811959-8d55-486b-aa55-eb32a2a893b8",
   "metadata": {},
   "source": [
    "要想改变一个张量的形状而不改变元素数量和元素值，可以调用reshape函数。 例如，可以把张量x从形状为（12,）的行向量转换为形状为（3,4）的矩阵。 这个新的张量包含与转换前相同的值，但是它被看成一个3行4列的矩阵。 要重点说明一下，虽然张量的形状发生了改变，但其元素值并没有变。 注意，通过改变张量的形状，张量的大小不会改变。"
   ]
  },
  {
   "cell_type": "code",
   "execution_count": 5,
   "id": "d12d5bcb-4250-4d24-b2b5-f5893620b2fe",
   "metadata": {},
   "outputs": [
    {
     "data": {
      "text/plain": [
       "tensor([[ 0,  1,  2,  3],\n",
       "        [ 4,  5,  6,  7],\n",
       "        [ 8,  9, 10, 11]])"
      ]
     },
     "execution_count": 5,
     "metadata": {},
     "output_type": "execute_result"
    }
   ],
   "source": [
    "x = x.reshape(3, 4)\n",
    "x"
   ]
  },
  {
   "cell_type": "code",
   "execution_count": 6,
   "id": "504959a2-1439-423f-8e63-0e36fbaf9649",
   "metadata": {},
   "outputs": [
    {
     "data": {
      "text/plain": [
       "tensor([[[0., 0., 0., 0.],\n",
       "         [0., 0., 0., 0.],\n",
       "         [0., 0., 0., 0.]],\n",
       "\n",
       "        [[0., 0., 0., 0.],\n",
       "         [0., 0., 0., 0.],\n",
       "         [0., 0., 0., 0.]]])"
      ]
     },
     "execution_count": 6,
     "metadata": {},
     "output_type": "execute_result"
    }
   ],
   "source": [
    "torch.zeros((2, 3, 4))"
   ]
  },
  {
   "cell_type": "code",
   "execution_count": 7,
   "id": "d3b00d25-5ed9-4672-b029-180df9724542",
   "metadata": {},
   "outputs": [
    {
     "data": {
      "text/plain": [
       "tensor([[[1., 1., 1., 1.],\n",
       "         [1., 1., 1., 1.],\n",
       "         [1., 1., 1., 1.]],\n",
       "\n",
       "        [[1., 1., 1., 1.],\n",
       "         [1., 1., 1., 1.],\n",
       "         [1., 1., 1., 1.]]])"
      ]
     },
     "execution_count": 7,
     "metadata": {},
     "output_type": "execute_result"
    }
   ],
   "source": [
    "torch.ones((2, 3, 4))"
   ]
  },
  {
   "cell_type": "code",
   "execution_count": 8,
   "id": "0d655885-0a0d-4330-84a8-b0101da17abc",
   "metadata": {},
   "outputs": [
    {
     "data": {
      "text/plain": [
       "tensor([[2, 1, 4, 3],\n",
       "        [1, 2, 3, 4],\n",
       "        [4, 3, 2, 1]])"
      ]
     },
     "execution_count": 8,
     "metadata": {},
     "output_type": "execute_result"
    }
   ],
   "source": [
    "torch.tensor([[2, 1, 4, 3], [1, 2, 3, 4], [4, 3, 2, 1]])"
   ]
  },
  {
   "cell_type": "code",
   "execution_count": 9,
   "id": "5195ddb4-4556-4ae1-8e1d-9ef26e797dd5",
   "metadata": {},
   "outputs": [
    {
     "data": {
      "text/plain": [
       "tensor([[[2, 1, 4, 3],\n",
       "         [1, 2, 3, 4],\n",
       "         [4, 3, 2, 1]]])"
      ]
     },
     "execution_count": 9,
     "metadata": {},
     "output_type": "execute_result"
    }
   ],
   "source": [
    "torch.tensor([[[2, 1, 4, 3], [1, 2, 3, 4], [4, 3, 2, 1]]])"
   ]
  },
  {
   "cell_type": "code",
   "execution_count": 10,
   "id": "a88d4eff-a9db-4eb5-b15b-6c4bd8ad31ab",
   "metadata": {},
   "outputs": [
    {
     "data": {
      "text/plain": [
       "torch.Size([1, 3, 4])"
      ]
     },
     "execution_count": 10,
     "metadata": {},
     "output_type": "execute_result"
    }
   ],
   "source": [
    "torch.tensor([[[2, 1, 4, 3], [1, 2, 3, 4], [4, 3, 2, 1]]]).shape"
   ]
  },
  {
   "cell_type": "code",
   "execution_count": 11,
   "id": "e7eae7e6-a9ec-48f0-a808-b9bd7be80db9",
   "metadata": {},
   "outputs": [
    {
     "data": {
      "text/plain": [
       "(tensor([ 3.,  4.,  6., 10.]),\n",
       " tensor([-1.,  0.,  2.,  6.]),\n",
       " tensor([ 2.,  4.,  8., 16.]),\n",
       " tensor([0.5000, 1.0000, 2.0000, 4.0000]),\n",
       " tensor([ 1.,  4., 16., 64.]))"
      ]
     },
     "execution_count": 11,
     "metadata": {},
     "output_type": "execute_result"
    }
   ],
   "source": [
    "x = torch.tensor([1.0, 2, 4, 8])\n",
    "y = torch.tensor([2, 2, 2, 2])\n",
    "x + y, x - y, x * y, x / y, x ** y"
   ]
  },
  {
   "cell_type": "code",
   "execution_count": 12,
   "id": "55b0fe94-3456-42ba-9900-73749cb98ecd",
   "metadata": {},
   "outputs": [
    {
     "data": {
      "text/plain": [
       "tensor([2.7183e+00, 7.3891e+00, 5.4598e+01, 2.9810e+03])"
      ]
     },
     "execution_count": 12,
     "metadata": {},
     "output_type": "execute_result"
    }
   ],
   "source": [
    "torch.exp(x)"
   ]
  },
  {
   "cell_type": "code",
   "execution_count": 13,
   "id": "c74324bb-6099-409f-96da-305296e21c64",
   "metadata": {},
   "outputs": [
    {
     "data": {
      "text/plain": [
       "(tensor([[ 0.,  1.,  2.,  3.],\n",
       "         [ 4.,  5.,  6.,  7.],\n",
       "         [ 8.,  9., 10., 11.],\n",
       "         [ 2.,  1.,  4.,  3.],\n",
       "         [ 1.,  2.,  3.,  4.],\n",
       "         [ 4.,  3.,  2.,  1.]]),\n",
       " tensor([[ 0.,  1.,  2.,  3.,  2.,  1.,  4.,  3.],\n",
       "         [ 4.,  5.,  6.,  7.,  1.,  2.,  3.,  4.],\n",
       "         [ 8.,  9., 10., 11.,  4.,  3.,  2.,  1.]]))"
      ]
     },
     "execution_count": 13,
     "metadata": {},
     "output_type": "execute_result"
    }
   ],
   "source": [
    "x = torch.arange(12, dtype = torch.float32).reshape((3, 4))\n",
    "y = torch.tensor([[2, 1, 4, 3], [1, 2, 3, 4], [4, 3, 2, 1]])\n",
    "torch.cat((x, y), dim = 0), torch.cat((x, y), dim = 1)"
   ]
  },
  {
   "cell_type": "code",
   "execution_count": 14,
   "id": "7cb68300-6e9a-4d10-b112-e2e034eec23e",
   "metadata": {},
   "outputs": [
    {
     "data": {
      "text/plain": [
       "tensor([[False,  True, False,  True],\n",
       "        [False, False, False, False],\n",
       "        [False, False, False, False]])"
      ]
     },
     "execution_count": 14,
     "metadata": {},
     "output_type": "execute_result"
    }
   ],
   "source": [
    "x == y"
   ]
  },
  {
   "cell_type": "code",
   "execution_count": 15,
   "id": "623288b0-7e99-4eec-9687-de70a501cec9",
   "metadata": {},
   "outputs": [
    {
     "data": {
      "text/plain": [
       "tensor(66.)"
      ]
     },
     "execution_count": 15,
     "metadata": {},
     "output_type": "execute_result"
    }
   ],
   "source": [
    "x.sum()"
   ]
  },
  {
   "cell_type": "markdown",
   "id": "27a34f48-f4a9-4d03-9978-98476c903dc5",
   "metadata": {},
   "source": [
    "小心广播机制"
   ]
  },
  {
   "cell_type": "code",
   "execution_count": 16,
   "id": "b77da619-4281-432a-9d7d-dade0b85f3cf",
   "metadata": {},
   "outputs": [
    {
     "data": {
      "text/plain": [
       "(tensor([[0],\n",
       "         [1],\n",
       "         [2]]),\n",
       " tensor([[0, 1]]))"
      ]
     },
     "execution_count": 16,
     "metadata": {},
     "output_type": "execute_result"
    }
   ],
   "source": [
    "a = torch.arange(3).reshape((3, 1))\n",
    "b = torch.arange(2).reshape((1, 2))\n",
    "a, b"
   ]
  },
  {
   "cell_type": "code",
   "execution_count": 17,
   "id": "87e00f95-88a7-4cc1-8d84-8718d25c5fc4",
   "metadata": {},
   "outputs": [
    {
     "data": {
      "text/plain": [
       "tensor([[0, 1],\n",
       "        [1, 2],\n",
       "        [2, 3]])"
      ]
     },
     "execution_count": 17,
     "metadata": {},
     "output_type": "execute_result"
    }
   ],
   "source": [
    "a + b"
   ]
  },
  {
   "cell_type": "code",
   "execution_count": 18,
   "id": "bd5b368a-cafa-49bd-af83-6993d1723ac8",
   "metadata": {},
   "outputs": [
    {
     "data": {
      "text/plain": [
       "tensor([[ 0.,  1.,  2.,  3.],\n",
       "        [ 4.,  5.,  6.,  7.],\n",
       "        [ 8.,  9., 10., 11.]])"
      ]
     },
     "execution_count": 18,
     "metadata": {},
     "output_type": "execute_result"
    }
   ],
   "source": [
    "x"
   ]
  },
  {
   "cell_type": "markdown",
   "id": "df786ace-9a80-481a-b9da-1f13151943fc",
   "metadata": {},
   "source": [
    "在 Python 和 PyTorch 中，切片操作 x[1:3] 并不是访问第二行到第四行的全部元素，而是访问 从索引 1 到索引 2 的行（包括索引 1 但不包括索引 3）。这是因为 Python 的切片规则是 左闭右开区间。"
   ]
  },
  {
   "cell_type": "code",
   "execution_count": 19,
   "id": "a3ac3f7e-85c5-4257-b414-dd6fe9c92c88",
   "metadata": {},
   "outputs": [
    {
     "data": {
      "text/plain": [
       "(tensor([ 8.,  9., 10., 11.]),\n",
       " tensor([[ 4.,  5.,  6.,  7.],\n",
       "         [ 8.,  9., 10., 11.]]))"
      ]
     },
     "execution_count": 19,
     "metadata": {},
     "output_type": "execute_result"
    }
   ],
   "source": [
    "x[-1], x[1:3]"
   ]
  },
  {
   "cell_type": "code",
   "execution_count": 20,
   "id": "ce40826b-79f0-4e37-83c5-5645bb22e6a1",
   "metadata": {},
   "outputs": [
    {
     "data": {
      "text/plain": [
       "tensor([[ 0.,  1.,  2.,  3.],\n",
       "        [ 4.,  5.,  6.,  7.],\n",
       "        [ 8.,  9., 10., 11.]])"
      ]
     },
     "execution_count": 20,
     "metadata": {},
     "output_type": "execute_result"
    }
   ],
   "source": [
    "x[1, 2]\n",
    "x"
   ]
  },
  {
   "cell_type": "code",
   "execution_count": 21,
   "id": "6f5aff8f-e432-4e6b-96e9-829639965627",
   "metadata": {},
   "outputs": [
    {
     "data": {
      "text/plain": [
       "tensor([[12., 12., 12., 12.],\n",
       "        [12., 12., 12., 12.],\n",
       "        [ 8.,  9., 10., 11.]])"
      ]
     },
     "execution_count": 21,
     "metadata": {},
     "output_type": "execute_result"
    }
   ],
   "source": [
    "x[0: 2, : ] = 12\n",
    "x"
   ]
  },
  {
   "cell_type": "markdown",
   "id": "cd241782-81f5-4dc0-bf7a-f98812ab3ca4",
   "metadata": {},
   "source": [
    "运行一些操作可能会导致为新结果分配内存\n",
    "id()类似于C++中的指针"
   ]
  },
  {
   "cell_type": "code",
   "execution_count": 22,
   "id": "eb8998d5-ee55-4035-b9be-adce7713d988",
   "metadata": {},
   "outputs": [
    {
     "data": {
      "text/plain": [
       "False"
      ]
     },
     "execution_count": 22,
     "metadata": {},
     "output_type": "execute_result"
    }
   ],
   "source": [
    "before = id(y)\n",
    "y = y + x\n",
    "id(y) == before"
   ]
  },
  {
   "cell_type": "markdown",
   "id": "7b8a0c28-3873-47a2-a582-a8f0903baf74",
   "metadata": {},
   "source": [
    "执行原地操作\n",
    "+= 是一种 就地（in-place）操作。它会修改 x 本身，而不是创建一个新的对象。\n",
    "具体来说，x += y 会对 x 的元素进行原地更新，即将 x 的值与 y 的值相加，并将结果存回 x 中。"
   ]
  },
  {
   "cell_type": "code",
   "execution_count": 23,
   "id": "210fa2db-d2ad-44d9-971f-f30987bcd1ac",
   "metadata": {},
   "outputs": [
    {
     "name": "stdout",
     "output_type": "stream",
     "text": [
      "id(z): 133588422277504\n",
      "id(z): 133588422277504\n"
     ]
    }
   ],
   "source": [
    "z = torch.zeros_like(y)\n",
    "print('id(z):', id(z))\n",
    "z[:] = x + y\n",
    "print('id(z):', id(z))"
   ]
  },
  {
   "cell_type": "markdown",
   "id": "fc075448-657e-4a3c-879b-b8d7a97f7829",
   "metadata": {},
   "source": [
    "解释：\n",
    "z[:] = x + y：这是通过 切片赋值 的方式修改 z。z[:] 表示选取 z 的所有元素，并将它们设置为 x + y 的结果。\n",
    "\n",
    "关键点：在这里，z 依然是原来创建的张量，只有它的值被更新了。由于我们修改的是 z 的元素，z 的内存地址（id(z)）没有发生变化，因此两次打印的 id(z) 是相同的。"
   ]
  },
  {
   "cell_type": "code",
   "execution_count": 24,
   "id": "a1562238-3a4c-4ab0-9677-5fc7e258a48d",
   "metadata": {},
   "outputs": [
    {
     "name": "stdout",
     "output_type": "stream",
     "text": [
      "id(z): 133588422274784\n",
      "id(z): 133588422270544\n"
     ]
    }
   ],
   "source": [
    "z = torch.zeros_like(y)\n",
    "print('id(z):', id(z))\n",
    "z = x + y\n",
    "print('id(z):', id(z))"
   ]
  },
  {
   "cell_type": "markdown",
   "id": "f78b7372-36cd-470b-9f4c-036ebe1763c4",
   "metadata": {},
   "source": [
    "解释：\n",
    "z = x + y：在这种情况下，z 被 重新赋值 为 x + y 的结果。这里，x + y 会创建一个新的张量，并将其赋值给 z。这意味着 z 的原有值会被完全替换，并且会指向一个新的张量。\n",
    "\n",
    "关键点：由于这是一个新的赋值操作，z 会指向一个新创建的张量，因此 id(z) 会发生变化，打印出的 id(z) 会不同。"
   ]
  },
  {
   "cell_type": "code",
   "execution_count": 32,
   "id": "8dbebf04-e25b-46da-b248-d453fe68cdaa",
   "metadata": {},
   "outputs": [
    {
     "data": {
      "text/plain": [
       "True"
      ]
     },
     "execution_count": 32,
     "metadata": {},
     "output_type": "execute_result"
    }
   ],
   "source": [
    "before = id(x)\n",
    "x += y\n",
    "id(x) == before"
   ]
  },
  {
   "cell_type": "code",
   "execution_count": 33,
   "id": "458c860a-61d2-4ef3-a77c-b931e3df7e23",
   "metadata": {},
   "outputs": [
    {
     "data": {
      "text/plain": [
       "(numpy.ndarray, torch.Tensor)"
      ]
     },
     "execution_count": 33,
     "metadata": {},
     "output_type": "execute_result"
    }
   ],
   "source": [
    "a = x.numpy()\n",
    "b = torch.tensor(a)\n",
    "type(a), type(b)\n"
   ]
  },
  {
   "cell_type": "markdown",
   "id": "10a8b549-30f6-4a87-b5d3-46a48ca86803",
   "metadata": {},
   "source": [
    "将大小为1的张量转换为Python标量"
   ]
  },
  {
   "cell_type": "code",
   "execution_count": 35,
   "id": "85987665-89f6-4dc7-9e84-434de497dce2",
   "metadata": {},
   "outputs": [
    {
     "data": {
      "text/plain": [
       "(tensor(3.5000), 3.5, 3.5, 3)"
      ]
     },
     "execution_count": 35,
     "metadata": {},
     "output_type": "execute_result"
    }
   ],
   "source": [
    "a = torch.tensor(3.5)\n",
    "a, a.item(), float(a), int(a)"
   ]
  },
  {
   "cell_type": "markdown",
   "id": "18d2e3da-b179-402e-aa35-efd9537ffb41",
   "metadata": {},
   "source": [
    "# 数据预处理"
   ]
  },
  {
   "cell_type": "markdown",
   "id": "b9a6a864-1a99-4ed0-9c90-8d8caa3aeddb",
   "metadata": {},
   "source": [
    "创建一个人工数据集，并存储在csv文件"
   ]
  },
  {
   "cell_type": "code",
   "execution_count": 36,
   "id": "82752e08-bda4-410c-b2c8-6505640fdf7c",
   "metadata": {},
   "outputs": [],
   "source": [
    "import os \n",
    "\n",
    "os.makedirs(os.path.join('..','data'), exist_ok = True)\n",
    "data_file = os.path.join('..', 'data', 'house_tiny.csv')\n",
    "\n",
    "with open(data_file, 'w') as f:\n",
    "    f.write('NumRooms, Alley, Price \\n')\n",
    "    f.write('NA, Pave, 127500 \\n')\n",
    "    f.write('2, NA, 106000 \\n')\n",
    "    f.write('4, NA, 180100 \\n')\n",
    "    f.write('NA, NA, 140000 \\n')\n",
    "\n"
   ]
  },
  {
   "cell_type": "markdown",
   "id": "cd1cf8d7-9187-4fd8-b2f0-650ec403cbe5",
   "metadata": {
    "jupyter": {
     "source_hidden": true
    }
   },
   "source": [
    "我们来逐行分析这段代码：\n",
    "\n",
    "### 1. **导入 `os` 模块**\n",
    "\n",
    "```python\n",
    "import os\n",
    "```\n",
    "- `os` 模块提供了与操作系统进行交互的功能，尤其是文件和目录管理相关的功能。这里我们将使用 `os` 模块中的 `makedirs` 和 `path.join` 函数来创建目录和构建文件路径。\n",
    "\n",
    "### 2. **创建目录**\n",
    "\n",
    "```python\n",
    "os.makedirs(os.path.join('..', 'data'), exist_ok=True)\n",
    "```\n",
    "- **`os.path.join('..', 'data')`**：\n",
    "  - `os.path.join()` 用于连接文件路径。在这里，`'..'` 表示当前目录的父级目录，`'data'` 是我们想要创建的目录名。因此，`os.path.join('..', 'data')` 会返回一个表示上级目录下 `data` 文件夹的路径（例如，如果当前目录是 `/home/user/project`，结果路径将是 `/home/user/data`）。\n",
    "  \n",
    "- **`os.makedirs()`**：\n",
    "  - `os.makedirs()` 用于递归地创建目录。如果目录已经存在且 `exist_ok=True`，那么不会引发错误。如果目录不存在，`makedirs()` 会创建目录。\n",
    "  - 这里 `exist_ok=True` 表示如果 `data` 文件夹已经存在，则不会抛出错误，确保在创建时不会干扰已有目录。\n",
    "\n",
    "### 3. **构建文件路径**\n",
    "\n",
    "```python\n",
    "data_file = os.path.join('..', 'data', 'house_tiny.csv')\n",
    "```\n",
    "- 使用 `os.path.join()` 组合目录和文件名。`'..'` 表示父级目录，`'data'` 是我们刚刚创建的文件夹，`'house_tiny.csv'` 是我们要创建的文件名。因此，`data_file` 存储的是 `house_tiny.csv` 的完整路径（例如 `/home/user/data/house_tiny.csv`）。\n",
    "\n",
    "### 4. **创建并写入文件**\n",
    "\n",
    "```python\n",
    "with open(data_file, 'w') as f:\n",
    "    f.write('NumRooms, Alley, Price \\n')\n",
    "    f.write('NA, Pave, 127500\\n')\n",
    "    f.write('2, NA, 106000\\n')\n",
    "    f.write('4, NA, 180100\\n')\n",
    "    f.write('NA, NA, 140000\\n')\n",
    "```\n",
    "- **`open(data_file, 'w')`**：\n",
    "  - `open()` 函数用于打开文件，第一个参数是文件路径，第二个参数 `'w'` 表示以写模式打开文件。如果文件不存在，Python 会自动创建它；如果文件已经存在，`'w'` 模式会清空文件中的内容并重新写入。\n",
    "  \n",
    "- **`with` 语句**：\n",
    "  - 使用 `with` 语句打开文件时，Python 会自动管理文件的打开和关闭。当 `with` 块中的代码执行完成后，文件会自动关闭。这是一种处理文件的推荐方式，可以避免忘记关闭文件的错误。\n",
    "\n",
    "- **写入内容**：\n",
    "  - `f.write('NumRooms, Alley, Price \\n')`：这行代码将字符串 `'NumRooms, Alley, Price \\n'` 写入文件。这是 CSV 文件的标题行，列出数据的名称：房间数（NumRooms）、小巷（Alley）和价格（Price）。\n",
    "  - 接下来的几行 `f.write()` 将数据写入文件：\n",
    "    - `f.write('NA, Pave, 127500\\n')`：表示一条数据记录，其中 `NA` 表示缺失数据，`Pave` 表示铺设的小巷类型，`127500` 是房屋价格。\n",
    "    - 后续的 `f.write()` 将更多的行写入文件，记录了不同的房屋数据。每一行数据与列名对应，使用逗号分隔。\n",
    "    \n",
    "### 5. **最终结果**\n",
    "执行完这段代码后，`house_tiny.csv` 文件将会被创建在 `data` 文件夹中。文件的内容会是：\n",
    "```\n",
    "NumRooms, Alley, Price\n",
    "NA, Pave, 127500\n",
    "2, NA, 106000\n",
    "4, NA, 180100\n",
    "NA, NA, 140000\n",
    "```\n",
    "\n",
    "- 这个文件是一个简单的 CSV 文件，记录了几个房屋的基本信息。CSV 文件是以逗号分隔的文本格式，广泛用于存储表格数据。\n",
    "\n",
    "### 总结：\n",
    "这段代码的作用是：\n",
    "1. 在父级目录下创建一个 `data` 文件夹（如果它不存在的话）。\n",
    "2. 在 `data` 文件夹中创建一个名为 `house_tiny.csv` 的文件，并写入列名和几条数据记录。\n",
    "\n",
    "`os.makedirs()` 用来创建目录，`os.path.join()` 用来组合路径，而 `open()` 用来创建文件并写入内容。"
   ]
  },
  {
   "cell_type": "markdown",
   "id": "4802abd7-db4f-4550-9b2d-e505cfe6fa68",
   "metadata": {},
   "source": [
    "------我是分割线------"
   ]
  },
  {
   "cell_type": "markdown",
   "id": "aef778dd-782a-45dc-9182-20c972101747",
   "metadata": {},
   "source": [
    "从创建的csv文件中加载原始数据集"
   ]
  },
  {
   "cell_type": "code",
   "execution_count": 37,
   "id": "bdee00c5-f518-48cb-9b3e-cb5a06f8343b",
   "metadata": {},
   "outputs": [
    {
     "name": "stdout",
     "output_type": "stream",
     "text": [
      "Requirement already satisfied: pandas in /home/ubuntu/miniconda3/lib/python3.12/site-packages (2.2.3)\n",
      "Requirement already satisfied: numpy>=1.26.0 in /home/ubuntu/miniconda3/lib/python3.12/site-packages (from pandas) (2.2.4)\n",
      "Requirement already satisfied: python-dateutil>=2.8.2 in /home/ubuntu/miniconda3/lib/python3.12/site-packages (from pandas) (2.9.0.post0)\n",
      "Requirement already satisfied: pytz>=2020.1 in /home/ubuntu/miniconda3/lib/python3.12/site-packages (from pandas) (2025.1)\n",
      "Requirement already satisfied: tzdata>=2022.7 in /home/ubuntu/miniconda3/lib/python3.12/site-packages (from pandas) (2025.2)\n",
      "Requirement already satisfied: six>=1.5 in /home/ubuntu/miniconda3/lib/python3.12/site-packages (from python-dateutil>=2.8.2->pandas) (1.17.0)\n",
      "   NumRooms  Alley   Price \n",
      "0       NaN   Pave   127500\n",
      "1       2.0     NA   106000\n",
      "2       4.0     NA   180100\n",
      "3       NaN     NA   140000\n"
     ]
    }
   ],
   "source": [
    "!pip install pandas  #如果已经安装就注释掉\n",
    "import pandas as pd\n",
    "\n",
    "data = pd.read_csv(data_file)\n",
    "print(data)"
   ]
  },
  {
   "cell_type": "markdown",
   "id": "44c24d6c-017a-4ebb-bbe7-314f4a7f5e3a",
   "metadata": {},
   "source": [
    " 为了处理缺失的数据，典型的方法包括*插值* 和 *删除*，这里，我们考虑插值"
   ]
  },
  {
   "cell_type": "code",
   "execution_count": 38,
   "id": "8d12aa5d-fc65-47f5-af54-7e617013b159",
   "metadata": {},
   "outputs": [
    {
     "name": "stdout",
     "output_type": "stream",
     "text": [
      "   NumRooms  Alley\n",
      "0       3.0   Pave\n",
      "1       2.0     NA\n",
      "2       4.0     NA\n",
      "3       3.0     NA\n"
     ]
    }
   ],
   "source": [
    "inputs, outputs = data.iloc[:, 0 : 2], data.iloc[:, 2] #iloc = index location\n",
    "inputs = inputs.fillna(inputs.mean(numeric_only = True))\n",
    "print(inputs)"
   ]
  },
  {
   "cell_type": "markdown",
   "id": "0417d3ec-c0fd-4bde-81d6-099ccba8bf1f",
   "metadata": {},
   "source": [
    "对于`inputs`中的类别值或离散值，我们将\"NaN\"视为一个类别"
   ]
  },
  {
   "cell_type": "code",
   "execution_count": 39,
   "id": "8a1b371f-d390-4266-a2d3-8fa2c0ac0b19",
   "metadata": {},
   "outputs": [
    {
     "name": "stdout",
     "output_type": "stream",
     "text": [
      "   NumRooms   Alley_ NA   Alley_ Pave   Alley_nan\n",
      "0         3           0             1           0\n",
      "1         2           1             0           0\n",
      "2         4           1             0           0\n",
      "3         3           1             0           0\n"
     ]
    }
   ],
   "source": [
    "inputs = pd.get_dummies(inputs, dummy_na = True).astype(int)\n",
    "print(inputs)"
   ]
  },
  {
   "cell_type": "markdown",
   "id": "dda64e93-83ca-471e-97d3-ccced28fbe4a",
   "metadata": {},
   "source": [
    "这里相较于案例，我也不知道为什么多了那么多数值"
   ]
  },
  {
   "cell_type": "markdown",
   "id": "74a0276a-6890-4f18-92e1-5e61bd2e8ac0",
   "metadata": {},
   "source": [
    "现在`inputs`和`outputs`中的所有条目都是数值模型，它们可以转为张量格式。"
   ]
  },
  {
   "cell_type": "code",
   "execution_count": 28,
   "id": "3718abd7-2b4f-486a-af7a-6d21fa8ac1a5",
   "metadata": {},
   "outputs": [
    {
     "data": {
      "text/plain": [
       "(tensor([[3, 0, 0, 1, 0],\n",
       "         [2, 1, 0, 0, 0],\n",
       "         [4, 0, 1, 0, 0],\n",
       "         [3, 1, 0, 0, 0]]),\n",
       " tensor([127500., 106000.,     nan, 140000.], dtype=torch.float64))"
      ]
     },
     "execution_count": 28,
     "metadata": {},
     "output_type": "execute_result"
    }
   ],
   "source": [
    "import torch\n",
    "\n",
    "x, y = torch.tensor(inputs.values), torch.tensor(outputs.values)\n",
    "x, y"
   ]
  },
  {
   "cell_type": "markdown",
   "id": "55203d9a-ea0b-40e9-876d-22c52c784a31",
   "metadata": {},
   "source": [
    "## Q&A"
   ]
  },
  {
   "cell_type": "code",
   "execution_count": 44,
   "id": "fcad321d-c9d3-453a-9695-b3cf40cb6d73",
   "metadata": {},
   "outputs": [
    {
     "data": {
      "text/plain": [
       "tensor([2, 2, 2, 2, 2, 2, 2, 2, 2, 2, 2, 2])"
      ]
     },
     "execution_count": 44,
     "metadata": {},
     "output_type": "execute_result"
    }
   ],
   "source": [
    "a = torch.arange(12)\n",
    "b = a.reshape((3, 4))\n",
    "b[:] = 2\n",
    "a"
   ]
  },
  {
   "cell_type": "code",
   "execution_count": null,
   "id": "0d128779-9f87-4ad8-a594-9127864a1538",
   "metadata": {},
   "outputs": [],
   "source": []
  }
 ],
 "metadata": {
  "kernelspec": {
   "display_name": "Python 3 (ipykernel)",
   "language": "python",
   "name": "python3"
  },
  "language_info": {
   "codemirror_mode": {
    "name": "ipython",
    "version": 3
   },
   "file_extension": ".py",
   "mimetype": "text/x-python",
   "name": "python",
   "nbconvert_exporter": "python",
   "pygments_lexer": "ipython3",
   "version": "3.12.9"
  }
 },
 "nbformat": 4,
 "nbformat_minor": 5
}
